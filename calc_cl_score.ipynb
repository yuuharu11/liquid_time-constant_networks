{
 "cells": [
  {
   "cell_type": "code",
   "execution_count": 2,
   "id": "fe8dfb23",
   "metadata": {},
   "outputs": [
    {
     "name": "stderr",
     "output_type": "stream",
     "text": [
      "/tmp/ipykernel_1592243/517995210.py:1: DeprecationWarning: \n",
      "Pyarrow will become a required dependency of pandas in the next major release of pandas (pandas 3.0),\n",
      "(to allow more performant data types, such as the Arrow string type, and better interoperability with other libraries)\n",
      "but was not found to be installed on your system.\n",
      "If this would cause problems for you,\n",
      "please provide us feedback at https://github.com/pandas-dev/pandas/issues/54466\n",
      "        \n",
      "  import pandas as pd\n"
     ]
    }
   ],
   "source": [
    "import pandas as pd\n",
    "import re\n"
   ]
  },
  {
   "cell_type": "code",
   "execution_count": 3,
   "id": "fe0695bd",
   "metadata": {},
   "outputs": [],
   "source": [
    "def import_csv_file(file_path):\n",
    "    try:\n",
    "        df = pd.read_csv(file_path, on_bad_lines='skip')\n",
    "        # delete unnecessary columns\n",
    "        df = df.drop_duplicates().reset_index(drop=True)\n",
    "        print(f\"✅ データファイル '{file_path}' を正常に読み込みました。\")\n",
    "        return df\n",
    "    except FileNotFoundError:\n",
    "        print(f\"❌ エラー: ファイルが見つかりません。パスを確認してください: '{file_path}'\")\n",
    "        return None"
   ]
  },
  {
   "cell_type": "code",
   "execution_count": 4,
   "id": "7fbd2180",
   "metadata": {},
   "outputs": [],
   "source": [
    "def create_accuracy_matrix(df: pd.DataFrame) -> list:\n",
    "    accuracy_matrix = []\n",
    "    current_list = []\n",
    "    previous_seed = -1  # 初期値を -1 にしておく\n",
    "\n",
    "    for _, row in df.iterrows():\n",
    "        seed = int(row['dataset_seed'])  \n",
    "        acc = row['テスト精度 (Test Acc)']\n",
    "\n",
    "        if previous_seed != -1 and seed == 0:\n",
    "            accuracy_matrix.append(current_list)\n",
    "            current_list = [acc]\n",
    "        else:\n",
    "            current_list.append(acc)\n",
    "\n",
    "        previous_seed = seed\n",
    "\n",
    "    if current_list:\n",
    "        accuracy_matrix.append(current_list)\n",
    "\n",
    "    return accuracy_matrix\n"
   ]
  },
  {
   "cell_type": "code",
   "execution_count": 5,
   "id": "b382b68b",
   "metadata": {},
   "outputs": [],
   "source": [
    "def compute_aa_and_aia(acc_matrix: list[list[float]]) -> tuple[list[float], list[float]]:\n",
    "    \"\"\"\n",
    "    acc_matrix[k][j] = 第kタスク学習後の、第jタスクに対する精度 a_{k,j}\n",
    "    を前提として、AA_kとAIA_kをそれぞれ計算する。\n",
    "    \n",
    "    Returns:\n",
    "        AA_list: 各ステップにおけるAA_k（平均精度）\n",
    "        AIA_list: 各ステップにおけるAIA_k（累積平均精度）\n",
    "    \"\"\"\n",
    "    AA_list = []\n",
    "    AIA_list = []\n",
    "\n",
    "    for k in range(len(acc_matrix)):\n",
    "        # k番目のタスクまで学習後の精度リスト: acc_matrix[k][0〜k]\n",
    "        current_accs = acc_matrix[k][:k+1]  # j <= k\n",
    "        AA_k = sum(current_accs) / len(current_accs)\n",
    "        AA_list.append(AA_k)\n",
    "\n",
    "        # AIA_k = 平均(AA_0 〜 AA_k)\n",
    "        AIA_k = sum(AA_list) / len(AA_list)\n",
    "        AIA_list.append(AIA_k)\n",
    "\n",
    "    return AA_list, AIA_list"
   ]
  },
  {
   "cell_type": "code",
   "execution_count": 6,
   "id": "190a1707",
   "metadata": {},
   "outputs": [
    {
     "name": "stdout",
     "output_type": "stream",
     "text": [
      "✅ データファイル '/work/csv/DIL/random_baseline.csv' を正常に読み込みました。\n",
      "([0.9472155570983888, 0.6260015964508057, 0.5400640964508057, 0.4209485165774822, 0.4340544819831848, 0.3721454367041587, 0.34226190405232565, 0.3035982586443424, 0.2829304676916864, 0.26101762950420376], [0.9472155570983888, 0.7866085767745972, 0.7044270833333334, 0.6335574416443706, 0.5936568497121334, 0.5567382808774709, 0.5260987984738787, 0.4982862309951867, 0.47435781285035333, 0.4530237945157384])\n"
     ]
    }
   ],
   "source": [
    "df= import_csv_file(\"/work/csv/DIL/random_baseline.csv\")\n",
    "acc_matrix= create_accuracy_matrix(df)\n",
    "print(compute_aa_and_aia(acc_matrix))"
   ]
  }
 ],
 "metadata": {
  "kernelspec": {
   "display_name": "Python 3",
   "language": "python",
   "name": "python3"
  },
  "language_info": {
   "codemirror_mode": {
    "name": "ipython",
    "version": 3
   },
   "file_extension": ".py",
   "mimetype": "text/x-python",
   "name": "python",
   "nbconvert_exporter": "python",
   "pygments_lexer": "ipython3",
   "version": "3.10.12"
  }
 },
 "nbformat": 4,
 "nbformat_minor": 5
}
