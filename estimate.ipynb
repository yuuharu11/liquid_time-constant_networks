{
 "cells": [
  {
   "cell_type": "code",
   "execution_count": 57,
   "id": "2e6d364d",
   "metadata": {},
   "outputs": [],
   "source": [
    "def lstm_params(lstm, units, d_model):\n",
    "    if lstm:\n",
    "        # LSTMCellの学習可能パラメータ\n",
    "        lstm_params = (4 * units * d_model) + (4 * units * units) + (8 * units)\n",
    "        return lstm_params\n",
    "    return 0\n",
    "\n",
    "def ltc_params(units, d_model):\n",
    "    # LTCCell単体の学習可能パラメータ\n",
    "    return (units * units) * 4 + (units) * 3 + (d_model * units) * 4\n",
    "    \n",
    "def calc_params(units, d_input, d_output, d_model, n_layers, lstm):\n",
    "    add_params = lstm_params(lstm, units, d_output) + ltc_params(units, d_output)\n",
    "    trainable_params=lstm_params(lstm, units, d_model) + ltc_params(units, d_model) + add_params * (n_layers - 1)\n",
    "    non_trainable_params = units * (units + d_model) + units * (units + d_output) * (n_layers - 1)\n",
    "\n",
    "    encoder_params = d_model * (d_input + 1)\n",
    "    decoder_params = d_output * (d_output + 1)\n",
    "\n",
    "    print(f\"Encoder Params: {encoder_params}\")\n",
    "    print(f\"Decoder Params: {decoder_params}\")\n",
    "    print(f\"Total Trainable Params: {trainable_params + encoder_params + decoder_params}\")\n",
    "    print(f\"Total Non-Trainable Params: {non_trainable_params}\")\n",
    "    print(f\"Total Params: {trainable_params + encoder_params + decoder_params + non_trainable_params}\")\n",
    "    return trainable_params + encoder_params + decoder_params + non_trainable_params"
   ]
  },
  {
   "cell_type": "code",
   "execution_count": 58,
   "id": "972d82cf",
   "metadata": {},
   "outputs": [],
   "source": [
    "def calc_mem(params, batch_size, units, n_layers, ode_unfolds, length):\n",
    "    # モデルパラメータの格納\n",
    "    params_mem = params * 4  # float32で格納する場合、1パラメータあたり4バイト\n",
    "    print(f\"Params Memory Usage: {params_mem / (1024 ** 2):.2f} MB\")\n",
    "    # スケジューラやオプティマイザのメモリ使用量を仮定\n",
    "    scheduler_mem = params_mem * 2\n",
    "    print(f\"Scheduler Memory Usage: {scheduler_mem / (1024 ** 2):.2f} MB\")\n",
    "    # 順伝播\n",
    "    forward_mem = ((batch_size * units * units * 2) + (batch_size * units * 6)) * n_layers * length * ode_unfolds * 4\n",
    "    print(f\"Forward Memory Usage: {forward_mem / (1024 ** 2):.2f} MB\")\n",
    "    # 逆伝播. とりあえず順伝播と同じメモリ消費量を想定\n",
    "    backward_mem = forward_mem\n",
    "    print(f\"Backward Memory Usage: {backward_mem / (1024 ** 2):.2f} MB\")\n",
    "    total_mem = params_mem + scheduler_mem + forward_mem + backward_mem\n",
    "    print(f\"Total Memory Usage: {total_mem / (1024 ** 2):.2f} MB\")\n",
    "    return total_mem"
   ]
  },
  {
   "cell_type": "code",
   "execution_count": 60,
   "id": "39458245",
   "metadata": {},
   "outputs": [
    {
     "name": "stdout",
     "output_type": "stream",
     "text": [
      "Encoder Params: 90\n",
      "Decoder Params: 42\n",
      "Total Trainable Params: 1085060\n",
      "Total Non-Trainable Params: 134912\n",
      "Total Params: 1219972\n",
      "Params Memory Usage: 4.65 MB\n",
      "Scheduler Memory Usage: 9.31 MB\n",
      "Forward Memory Usage: 49728.00 MB\n",
      "Backward Memory Usage: 49728.00 MB\n",
      "Total Memory Usage: 99469.96 MB\n"
     ]
    },
    {
     "data": {
      "text/plain": [
       "104301814320"
      ]
     },
     "execution_count": 60,
     "metadata": {},
     "output_type": "execute_result"
    }
   ],
   "source": [
    "units=256\n",
    "batch_size=128\n",
    "d_input=9\n",
    "d_output=6\n",
    "d_model=9\n",
    "n_layers=2\n",
    "length=128\n",
    "ode_unfolds=3\n",
    "lstm=True\n",
    "params = calc_params(units, d_input, d_output, d_model, n_layers, lstm)\n",
    "calc_mem(params, batch_size, units, n_layers, ode_unfolds, length)"
   ]
  },
  {
   "cell_type": "code",
   "execution_count": null,
   "id": "a05830b1",
   "metadata": {},
   "outputs": [],
   "source": []
  }
 ],
 "metadata": {
  "kernelspec": {
   "display_name": "Python 3",
   "language": "python",
   "name": "python3"
  },
  "language_info": {
   "codemirror_mode": {
    "name": "ipython",
    "version": 3
   },
   "file_extension": ".py",
   "mimetype": "text/x-python",
   "name": "python",
   "nbconvert_exporter": "python",
   "pygments_lexer": "ipython3",
   "version": "3.10.12"
  }
 },
 "nbformat": 4,
 "nbformat_minor": 5
}
