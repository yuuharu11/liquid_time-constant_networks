{
 "cells": [
  {
   "cell_type": "code",
   "execution_count": 1,
   "id": "b038167e",
   "metadata": {},
   "outputs": [],
   "source": [
    "units=150\n",
    "batch_size=128\n",
    "input_size=96\n",
    "output_size=10\n",
    "n_layers=1\n",
    "lstm=True"
   ]
  },
  {
   "cell_type": "code",
   "execution_count": 3,
   "id": "2e6d364d",
   "metadata": {},
   "outputs": [
    {
     "name": "stdout",
     "output_type": "stream",
     "text": [
      "Encoder Params: 9312\n",
      "Decoder Params: 110\n",
      "Total Trainable Params: 306272\n"
     ]
    }
   ],
   "source": [
    "# LTCCell単体の学習可能パラメータ\n",
    "ltc_params = (units * units) * 4 + (units) * 3 + (input_size * units) * 4\n",
    "\n",
    "if lstm:\n",
    "    # LSTMCellの学習可能パラメータ\n",
    "    lstm_params = (4 * units * input_size) + (4 * units * units) + (8 * units)\n",
    "    \n",
    "    # LTCとLSTMの合計\n",
    "    total_params = ltc_params + lstm_params\n",
    "else:\n",
    "    total_params = ltc_params\n",
    "\n",
    "encoder_params = input_size * (input_size + 1)\n",
    "decoder_params = output_size * (output_size + 1)\n",
    "\n",
    "print(f\"Encoder Params: {encoder_params}\")\n",
    "print(f\"Decoder Params: {decoder_params}\")\n",
    "print(f\"Total Trainable Params: {total_params+ encoder_params + decoder_params}\")"
   ]
  },
  {
   "cell_type": "code",
   "execution_count": null,
   "id": "972d82cf",
   "metadata": {},
   "outputs": [],
   "source": []
  }
 ],
 "metadata": {
  "kernelspec": {
   "display_name": "Python 3",
   "language": "python",
   "name": "python3"
  },
  "language_info": {
   "codemirror_mode": {
    "name": "ipython",
    "version": 3
   },
   "file_extension": ".py",
   "mimetype": "text/x-python",
   "name": "python",
   "nbconvert_exporter": "python",
   "pygments_lexer": "ipython3",
   "version": "3.10.12"
  }
 },
 "nbformat": 4,
 "nbformat_minor": 5
}
