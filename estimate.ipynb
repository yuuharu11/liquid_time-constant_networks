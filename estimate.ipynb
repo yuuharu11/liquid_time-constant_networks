{
 "cells": [
  {
   "cell_type": "code",
   "execution_count": 2,
   "id": "2e6d364d",
   "metadata": {},
   "outputs": [],
   "source": [
    "def lstm_params(lstm, units, d_model):\n",
    "    if lstm:\n",
    "        # LSTMCellの学習可能パラメータ\n",
    "        lstm_params = (4 * units * d_model) + (4 * units * units) + (8 * units)\n",
    "        return lstm_params\n",
    "    return 0\n",
    "\n",
    "def ltc_params(units, d_model):\n",
    "    # LTCCell単体の学習可能パラメータ\n",
    "    return (units * units) * 4 + (units) * 3 + (d_model * units) * 4\n",
    "\n",
    "def calc_params(units, d_input, d_output, d_model, n_layers, lstm):\n",
    "    add_params = lstm_params(lstm, units, d_output) + ltc_params(units, d_output)\n",
    "    trainable_params=lstm_params(lstm, units, d_model) + ltc_params(units, d_model) + add_params * (n_layers - 1)\n",
    "    non_trainable_params = units * (units + d_model) + units * (units + d_output) * (n_layers - 1)\n",
    "\n",
    "    encoder_params = d_model * (d_input + 1)\n",
    "    decoder_params = d_output * (d_output + 1)\n",
    "\n",
    "    print(f\"Encoder Params: {encoder_params}\")\n",
    "    print(f\"Decoder Params: {decoder_params}\")\n",
    "    print(f\"Total Trainable Params: {trainable_params + encoder_params + decoder_params}\")\n",
    "    print(f\"Total Non-Trainable Params: {non_trainable_params}\")\n",
    "    print(f\"Total Params: {trainable_params + encoder_params + decoder_params + non_trainable_params}\")\n",
    "    return trainable_params + encoder_params + decoder_params + non_trainable_params"
   ]
  },
  {
   "cell_type": "code",
   "execution_count": 3,
   "id": "f3302e32",
   "metadata": {},
   "outputs": [],
   "source": [
    "def calculate_rnn_params(cell_type, n_layers, d_input, d_model, d_output):\n",
    "    \"\"\"\n",
    "    様々な種類のRNNの総パラメータ数を計算します。\n",
    "\n",
    "    Args:\n",
    "        cell_type (str): 'RNN', 'LSTM', 'GRU' のいずれか\n",
    "        n_layers (int): レイヤー数\n",
    "        d_input (int): 入力データの次元数\n",
    "        d_model (int): 隠れ状態の次元数\n",
    "        d_output (int): 出力データの次元数\n",
    "\n",
    "    Returns:\n",
    "        int: パラメータの総数\n",
    "    \"\"\"\n",
    "    total_params = 0\n",
    "\n",
    "    encoder_params = d_model * (d_input + 1)\n",
    "    decoder_params = d_output * (d_model + 1)\n",
    "    total_params += encoder_params + decoder_params\n",
    "\n",
    "    # ゲートの数や重みの種類を決定する係数\n",
    "    if cell_type.upper() == 'RNN':\n",
    "        gate_factor = 1\n",
    "    elif cell_type.upper() == 'LSTM':\n",
    "        gate_factor = 4\n",
    "    elif cell_type.upper() == 'GRU':\n",
    "        gate_factor = 3\n",
    "    else:\n",
    "        raise ValueError(\"cell_typeは 'RNN', 'LSTM', 'GRU' のいずれかである必要があります\")\n",
    "\n",
    "    # 1層目のパラメータ数\n",
    "    # 重み(入力->隠れ、隠れ->隠れ) + バイアス(2種類)\n",
    "    params_first_layer = (gate_factor * d_model * d_model) + \\\n",
    "                         (gate_factor * d_model * d_model) + \\\n",
    "                         (2 * gate_factor * d_model)\n",
    "    total_params += params_first_layer\n",
    "\n",
    "    # 2層目以降のパラメータ数\n",
    "    if n_layers > 1:\n",
    "        # 2層目以降の入力は、前の層の隠れ状態 (次元はd_model)\n",
    "        params_other_layers = (gate_factor * d_model * d_model) + \\\n",
    "                              (gate_factor * d_model * d_model) + \\\n",
    "                              (2 * gate_factor * d_model)\n",
    "        total_params += (n_layers - 1) * params_other_layers\n",
    "        \n",
    "    return total_params"
   ]
  },
  {
   "cell_type": "code",
   "execution_count": 4,
   "id": "972d82cf",
   "metadata": {},
   "outputs": [],
   "source": [
    "def calc_mem(params, batch_size, units, n_layers, ode_unfolds, length):\n",
    "    # モデルパラメータの格納\n",
    "    params_mem = params * 4  # float32で格納する場合、1パラメータあたり4バイト\n",
    "    print(f\"Params Memory Usage: {params_mem / (1024 ** 2):.2f} MB\")\n",
    "    # スケジューラやオプティマイザのメモリ使用量を仮定\n",
    "    scheduler_mem = params_mem * 2\n",
    "    print(f\"Scheduler Memory Usage: {scheduler_mem / (1024 ** 2):.2f} MB\")\n",
    "    # 順伝播\n",
    "    forward_mem = ((batch_size * units * units * 2) + (batch_size * units * 6)) * n_layers * length * ode_unfolds * 4\n",
    "    print(f\"Forward Memory Usage: {forward_mem / (1024 ** 2):.2f} MB\")\n",
    "    # 逆伝播. とりあえず順伝播と同じメモリ消費量を想定\n",
    "    backward_mem = forward_mem\n",
    "    print(f\"Backward Memory Usage: {backward_mem / (1024 ** 2):.2f} MB\")\n",
    "    total_mem = params_mem + scheduler_mem + forward_mem + backward_mem\n",
    "    print(f\"Total Memory Usage: {total_mem / (1024 ** 2):.2f} MB\")\n",
    "    return total_mem"
   ]
  },
  {
   "cell_type": "code",
   "execution_count": 11,
   "id": "39458245",
   "metadata": {},
   "outputs": [
    {
     "name": "stdout",
     "output_type": "stream",
     "text": [
      "Encoder Params: 1640\n",
      "Decoder Params: 156\n",
      "Total Trainable Params: 27836\n",
      "Total Non-Trainable Params: 3200\n",
      "Total Params: 31036\n",
      "Params Memory Usage: 0.12 MB\n",
      "Scheduler Memory Usage: 0.24 MB\n",
      "Forward Memory Usage: 215.00 MB\n",
      "Backward Memory Usage: 215.00 MB\n",
      "Total Memory Usage: 430.36 MB\n"
     ]
    },
    {
     "data": {
      "text/plain": [
       "451260112"
      ]
     },
     "execution_count": 11,
     "metadata": {},
     "output_type": "execute_result"
    }
   ],
   "source": [
    "units=40\n",
    "batch_size=128\n",
    "d_input=40\n",
    "d_output=12\n",
    "d_model=40\n",
    "n_layers=1\n",
    "length=128\n",
    "ode_unfolds=1\n",
    "lstm=True\n",
    "params = calc_params(units, d_input, d_output, d_model, n_layers, lstm)\n",
    "calc_mem(params, batch_size, units, n_layers, ode_unfolds, length)"
   ]
  },
  {
   "cell_type": "code",
   "execution_count": 6,
   "id": "d62bbbed",
   "metadata": {},
   "outputs": [
    {
     "data": {
      "text/plain": [
       "35078"
      ]
     },
     "execution_count": 6,
     "metadata": {},
     "output_type": "execute_result"
    }
   ],
   "source": [
    "calculate_rnn_params('RNN',1,9,128,6)"
   ]
  },
  {
   "cell_type": "code",
   "execution_count": null,
   "id": "afcadc6d",
   "metadata": {},
   "outputs": [],
   "source": []
  }
 ],
 "metadata": {
  "kernelspec": {
   "display_name": "Python 3",
   "language": "python",
   "name": "python3"
  },
  "language_info": {
   "codemirror_mode": {
    "name": "ipython",
    "version": 3
   },
   "file_extension": ".py",
   "mimetype": "text/x-python",
   "name": "python",
   "nbconvert_exporter": "python",
   "pygments_lexer": "ipython3",
   "version": "3.10.12"
  }
 },
 "nbformat": 4,
 "nbformat_minor": 5
}
